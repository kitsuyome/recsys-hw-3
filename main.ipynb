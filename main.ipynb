{
 "cells": [
  {
   "cell_type": "markdown",
   "metadata": {},
   "source": [
    "## ДЗ №3 Двухуровневый пайплайн\n",
    "#### В этой домашке вам предстоит написать с нуля двустадийную рекомендательную систему. \n",
    "\n",
    "#### Дата выдачи: 10.03.25\n",
    "\n",
    "#### Мягкий дедлайн: 31.03.25 23:59 MSK\n",
    "\n",
    "#### Жесткий дедлайн: 7.04.25 23:59 MSK"
   ]
  },
  {
   "cell_type": "markdown",
   "metadata": {},
   "source": [
    "### Описание\n",
    "Это творческое задание, в котором вам необходимо реализовать полный цикл построения рекомендательной системы: реализовать кандидат генераторов, придумать и собрать признаки, обучить итоговый ранкер и заинференсить модели на всех пользователей.\n",
    "\n",
    "Вам предоставляется два набора данных: `train.csv` и `test.csv` "
   ]
  },
  {
   "cell_type": "code",
   "execution_count": 1,
   "metadata": {},
   "outputs": [],
   "source": [
    "import pandas as pd"
   ]
  },
  {
   "cell_type": "code",
   "execution_count": 2,
   "metadata": {},
   "outputs": [
    {
     "data": {
      "text/html": [
       "<div>\n",
       "<style scoped>\n",
       "    .dataframe tbody tr th:only-of-type {\n",
       "        vertical-align: middle;\n",
       "    }\n",
       "\n",
       "    .dataframe tbody tr th {\n",
       "        vertical-align: top;\n",
       "    }\n",
       "\n",
       "    .dataframe thead th {\n",
       "        text-align: right;\n",
       "    }\n",
       "</style>\n",
       "<table border=\"1\" class=\"dataframe\">\n",
       "  <thead>\n",
       "    <tr style=\"text-align: right;\">\n",
       "      <th></th>\n",
       "      <th>user_id</th>\n",
       "      <th>item_id</th>\n",
       "      <th>last_watch_dt</th>\n",
       "      <th>total_dur</th>\n",
       "      <th>watched_pct</th>\n",
       "      <th>target</th>\n",
       "    </tr>\n",
       "  </thead>\n",
       "  <tbody>\n",
       "    <tr>\n",
       "      <th>0</th>\n",
       "      <td>310745</td>\n",
       "      <td>13373</td>\n",
       "      <td>2021-03-13</td>\n",
       "      <td>4485</td>\n",
       "      <td>98.0</td>\n",
       "      <td>1</td>\n",
       "    </tr>\n",
       "    <tr>\n",
       "      <th>1</th>\n",
       "      <td>952323</td>\n",
       "      <td>15997</td>\n",
       "      <td>2021-03-13</td>\n",
       "      <td>7507</td>\n",
       "      <td>100.0</td>\n",
       "      <td>1</td>\n",
       "    </tr>\n",
       "    <tr>\n",
       "      <th>2</th>\n",
       "      <td>889459</td>\n",
       "      <td>11460</td>\n",
       "      <td>2021-03-13</td>\n",
       "      <td>60</td>\n",
       "      <td>0.0</td>\n",
       "      <td>0</td>\n",
       "    </tr>\n",
       "    <tr>\n",
       "      <th>3</th>\n",
       "      <td>854016</td>\n",
       "      <td>11237</td>\n",
       "      <td>2021-03-13</td>\n",
       "      <td>5381</td>\n",
       "      <td>98.0</td>\n",
       "      <td>1</td>\n",
       "    </tr>\n",
       "    <tr>\n",
       "      <th>4</th>\n",
       "      <td>307257</td>\n",
       "      <td>9132</td>\n",
       "      <td>2021-03-13</td>\n",
       "      <td>5814</td>\n",
       "      <td>100.0</td>\n",
       "      <td>1</td>\n",
       "    </tr>\n",
       "  </tbody>\n",
       "</table>\n",
       "</div>"
      ],
      "text/plain": [
       "   user_id  item_id last_watch_dt  total_dur  watched_pct  target\n",
       "0   310745    13373    2021-03-13       4485         98.0       1\n",
       "1   952323    15997    2021-03-13       7507        100.0       1\n",
       "2   889459    11460    2021-03-13         60          0.0       0\n",
       "3   854016    11237    2021-03-13       5381         98.0       1\n",
       "4   307257     9132    2021-03-13       5814        100.0       1"
      ]
     },
     "metadata": {},
     "output_type": "display_data"
    },
    {
     "name": "stdout",
     "output_type": "stream",
     "text": [
      "____________________________________________________________\n"
     ]
    },
    {
     "data": {
      "text/html": [
       "<div>\n",
       "<style scoped>\n",
       "    .dataframe tbody tr th:only-of-type {\n",
       "        vertical-align: middle;\n",
       "    }\n",
       "\n",
       "    .dataframe tbody tr th {\n",
       "        vertical-align: top;\n",
       "    }\n",
       "\n",
       "    .dataframe thead th {\n",
       "        text-align: right;\n",
       "    }\n",
       "</style>\n",
       "<table border=\"1\" class=\"dataframe\">\n",
       "  <thead>\n",
       "    <tr style=\"text-align: right;\">\n",
       "      <th></th>\n",
       "      <th>user_id</th>\n",
       "      <th>item_id</th>\n",
       "      <th>last_watch_dt</th>\n",
       "      <th>total_dur</th>\n",
       "      <th>watched_pct</th>\n",
       "      <th>target</th>\n",
       "    </tr>\n",
       "  </thead>\n",
       "  <tbody>\n",
       "    <tr>\n",
       "      <th>0</th>\n",
       "      <td>718866</td>\n",
       "      <td>6382</td>\n",
       "      <td>2021-08-13</td>\n",
       "      <td>10309</td>\n",
       "      <td>19.0</td>\n",
       "      <td>0</td>\n",
       "    </tr>\n",
       "    <tr>\n",
       "      <th>1</th>\n",
       "      <td>147119</td>\n",
       "      <td>13865</td>\n",
       "      <td>2021-08-13</td>\n",
       "      <td>1666</td>\n",
       "      <td>26.0</td>\n",
       "      <td>0</td>\n",
       "    </tr>\n",
       "    <tr>\n",
       "      <th>2</th>\n",
       "      <td>1079425</td>\n",
       "      <td>4141</td>\n",
       "      <td>2021-08-13</td>\n",
       "      <td>774</td>\n",
       "      <td>10.0</td>\n",
       "      <td>0</td>\n",
       "    </tr>\n",
       "    <tr>\n",
       "      <th>3</th>\n",
       "      <td>810008</td>\n",
       "      <td>15297</td>\n",
       "      <td>2021-08-13</td>\n",
       "      <td>3</td>\n",
       "      <td>0.0</td>\n",
       "      <td>0</td>\n",
       "    </tr>\n",
       "    <tr>\n",
       "      <th>4</th>\n",
       "      <td>1068123</td>\n",
       "      <td>10440</td>\n",
       "      <td>2021-08-13</td>\n",
       "      <td>492</td>\n",
       "      <td>0.0</td>\n",
       "      <td>0</td>\n",
       "    </tr>\n",
       "  </tbody>\n",
       "</table>\n",
       "</div>"
      ],
      "text/plain": [
       "   user_id  item_id last_watch_dt  total_dur  watched_pct  target\n",
       "0   718866     6382    2021-08-13      10309         19.0       0\n",
       "1   147119    13865    2021-08-13       1666         26.0       0\n",
       "2  1079425     4141    2021-08-13        774         10.0       0\n",
       "3   810008    15297    2021-08-13          3          0.0       0\n",
       "4  1068123    10440    2021-08-13        492          0.0       0"
      ]
     },
     "execution_count": 2,
     "metadata": {},
     "output_type": "execute_result"
    }
   ],
   "source": [
    "train = pd.read_csv('train_part.csv')\n",
    "test = pd.read_csv('test_part.csv')\n",
    "\n",
    "display(train.head())\n",
    "print('_' * 60)\n",
    "test.head()"
   ]
  },
  {
   "cell_type": "code",
   "execution_count": 3,
   "metadata": {},
   "outputs": [],
   "source": [
    "train = train.sort_values('last_watch_dt')\n",
    "split_index = int(0.8 * len(train))\n",
    "train_stage_1 = train.iloc[:split_index].reset_index(drop=True)\n",
    "valid_stage_1 = train.iloc[split_index:].reset_index(drop=True)"
   ]
  },
  {
   "cell_type": "markdown",
   "metadata": {},
   "source": [
    "\n",
    "\n",
    "### 1 Этап. Модели первого уровня. (max 3 балла)\n",
    "В этом этапе вам необходимо разделить `train` датасет на 2 части: для обучения моделей первого уровня и для их валидации. Единственное условие для разбиения – разбивать нужно по времени. Данные для обучение будем называть `train_stage_1`, данные для валидации `valid_stage_1`. Объемы этих датасетов вы определяет самостоятельно. \n",
    "\n",
    "Для начала нам нужно отобрать кандидатов при помощи легких моделей. Необходимо реализовать 3 типа моделей:\n",
    "1. Любая эвристическая(алгоритмичная) модель на ваш выбор **(0.5 балл)**\n",
    "2. Любая матричная факторизация на ваш выбор **(1 балл)**\n",
    "3. Любая нейросетевая модель на ваш выбор **(1 балла)**\n",
    "\n",
    "Не забудьте использовать скор каждой модели, как признак!\n",
    "\n"
   ]
  },
  {
   "cell_type": "code",
   "execution_count": 4,
   "metadata": {},
   "outputs": [],
   "source": [
    "from models import HeuristicModel, MatrixFactorization, NeuralRecSysModel"
   ]
  },
  {
   "cell_type": "code",
   "execution_count": 5,
   "metadata": {},
   "outputs": [],
   "source": [
    "example_user = train_stage_1['user_id'].iloc[0]\n",
    "example_item = train_stage_1['item_id'].iloc[0]"
   ]
  },
  {
   "cell_type": "code",
   "execution_count": 6,
   "metadata": {},
   "outputs": [
    {
     "name": "stdout",
     "output_type": "stream",
     "text": [
      "Прогноз релевантности для пользователя 310745 и айтема 13373: 298\n",
      "Топ-10 рекомендуемых айтемов: [15297, 13865, 10440, 9728, 3734, 4151, 142, 8636, 6809, 11237]\n"
     ]
    }
   ],
   "source": [
    "my_heuristic_model = HeuristicModel()\n",
    "my_heuristic_model.fit(train_stage_1)\n",
    "\n",
    "score = my_heuristic_model.predict(example_user, example_item)\n",
    "print(f\"Прогноз релевантности для пользователя {example_user} и айтема {example_item}: {score}\")\n",
    "\n",
    "recommended_items = my_heuristic_model.recommend(example_user, k=10)\n",
    "print(\"Топ-10 рекомендуемых айтемов:\", recommended_items)"
   ]
  },
  {
   "cell_type": "code",
   "execution_count": 7,
   "metadata": {},
   "outputs": [
    {
     "name": "stdout",
     "output_type": "stream",
     "text": [
      "Прогноз для пользователя 310745 и айтема 13373: 0.5265961297175779\n",
      "Топ-10 рекомендуемых айтемов: [1264, 599, 8832, 1024, 13622, 512, 12719, 11940, 9465, 9714]\n"
     ]
    }
   ],
   "source": [
    "my_matrix_factorization = MatrixFactorization(n_factors=20, learning_rate=0.01, reg=0.1, n_epochs=1, random_state=42, default_score=0.0)\n",
    "my_matrix_factorization.fit(train_stage_1)\n",
    "\n",
    "predicted_score = my_matrix_factorization.predict(example_user, example_item)\n",
    "print(f\"Прогноз для пользователя {example_user} и айтема {example_item}: {predicted_score}\")\n",
    "\n",
    "recommended_items = my_matrix_factorization.recommend(example_user, k=10)\n",
    "print(\"Топ-10 рекомендуемых айтемов:\", recommended_items)"
   ]
  },
  {
   "cell_type": "code",
   "execution_count": 8,
   "metadata": {},
   "outputs": [
    {
     "name": "stdout",
     "output_type": "stream",
     "text": [
      "Прогноз релевантности для пользователя 310745 и айтема 13373: 0.5225228667259216\n",
      "Топ-10 рекомендуемых айтемов: [9259, 4433, 3610, 2192, 9465, 2270, 1933, 2494, 11103, 6572]\n"
     ]
    }
   ],
   "source": [
    "my_neural_network = NeuralRecSysModel(embedding_dim=20, hidden_dim=64, lr=0.01, n_epochs=1, default_score=0.0)\n",
    "my_neural_network.fit(train_stage_1)\n",
    "\n",
    "score = my_neural_network.predict(example_user, example_item)\n",
    "print(f\"Прогноз релевантности для пользователя {example_user} и айтема {example_item}: {score}\")\n",
    "\n",
    "recommended_items = my_neural_network.recommend(example_user, k=10)\n",
    "print(\"Топ-10 рекомендуемых айтемов:\", recommended_items)"
   ]
  },
  {
   "cell_type": "markdown",
   "metadata": {},
   "source": [
    "Каждая модель должна уметь:\n",
    "1) для пары user_item предсказывать скор релевантности (масштаб скора не важен), важно обработать случаи, когда модель не можеn проскорить пользователя или айтем, вместо этого вернуть какое-то дефолтное значение\n",
    "2) для всех пользователей вернуть top-k самых релевантных айтемов (тут вам скоры не нужны)\n",
    "\n",
    "\n",
    "Дополнительно можно провести анализ кандидат генератов, измерить насколько различные айтемы они рекомендуют, например с помощью таких метрик как: [Ranked based overlap](https://github.com/changyaochen/rbo) или различные вариации [Diversity](https://github.com/MaurizioFD/RecSys2019_DeepLearning_Evaluation/blob/master/Base/Evaluation/metrics.py#L289). **(1 балл)**"
   ]
  },
  {
   "cell_type": "code",
   "execution_count": 9,
   "metadata": {},
   "outputs": [
    {
     "name": "stdout",
     "output_type": "stream",
     "text": [
      "Diversity между рекомендациями от моделей: 0.9666666666666667\n"
     ]
    }
   ],
   "source": [
    "from utils import compute_diversity\n",
    "\n",
    "recommendations = {\n",
    "    \"heuristic\": my_heuristic_model.recommend(example_user, k=10),\n",
    "    \"mf\": my_matrix_factorization.recommend(example_user, k=10),\n",
    "    \"nn\": my_neural_network.recommend(example_user, k=10),\n",
    "}\n",
    "\n",
    "print(f\"Diversity между рекомендациями от моделей: {compute_diversity(recommendations)}\")"
   ]
  },
  {
   "cell_type": "markdown",
   "metadata": {},
   "source": [
    "Все модели, которые мы рассмотрели, выдают разные рекомендации"
   ]
  },
  {
   "cell_type": "markdown",
   "metadata": {},
   "source": [
    "\n",
    "### 2 Этап. Генерация и сборка признаков. (max 2 балла)\n",
    "Необходимо собрать минимум 10 осмысленных (`np.radndom.rand()` не подойдет) признаков, при этом:\n",
    "1. 2 должны относиться только к сущности \"пользователь\" (например средний % просмотра фильмов у этой возрастной категории)\n",
    "2. 2 должны относиться только к сущности \"айтем\" (например средний средний % просмотра данного фильма)\n",
    "3. 6 признаков, которые показывают связь пользователя и айтема (например средний % просмотра фильмов с данным актером (айтем) у пользователей с таким же полом (пользователь)). \n",
    "\n",
    "### ВАЖНО!  \n",
    "\n",
    "1. **В датасете есть колонка `watched_prct`. Ее можно использовать для генерации признаков (например сколько пользователь в среднем смотрит фильмы), но нельзя подавать в модель, как отдельную фичу, потому что она напрямую связана с target.**\n",
    "2. **Все признаки должны быть собраны без дата лика, то есть если пользователь посмотрел фильм 10 августа, то признаки мы можем считать только на данных до 9 августа включительно.**\n",
    "\n",
    "\n",
    "### Разбалловка\n",
    "Обучение ранкера будет проходить на `valid_stage_1`, как  раз на которой мы валидировали модели, а тестировать на `test`. Поэтому есть 2 варианта сборки признаков, **реализовать нужно только 1 из них:**\n",
    "1. Для обучения собираем признаки на первый день `valid_stage_1`, а для теста на первый день `test`. Например, если `valid_stage_1` начинается 5 сентября, то все признаки мы можем собирать только по 4 сентября включительно. **(1 балл)**\n",
    "2. Признаки будем собирать честно на каждый день, то есть на 5 сентября собираем с начала до 4, на 6 сентября с начала до 5 и т.д. **(2 балла)**"
   ]
  },
  {
   "cell_type": "code",
   "execution_count": 10,
   "metadata": {},
   "outputs": [],
   "source": [
    "train['last_watch_dt'] = pd.to_datetime(train['last_watch_dt'])\n",
    "valid_stage_1['last_watch_dt'] = pd.to_datetime(valid_stage_1['last_watch_dt'])\n",
    "test['last_watch_dt'] = pd.to_datetime(test['last_watch_dt'])\n",
    "\n",
    "valid_day_1 = valid_stage_1['last_watch_dt'].min()\n",
    "test_day_1 = test['last_watch_dt'].min()\n",
    "\n",
    "# для формирования признаков используем данные до дня, предшествующего первому дню\n",
    "cutoff_valid = valid_day_1 - pd.Timedelta(days=1)\n",
    "cutoff_test = test_day_1 - pd.Timedelta(days=1)\n",
    "history_valid = train[train['last_watch_dt'] <= cutoff_valid].copy()\n",
    "history_test = pd.concat([train, valid_stage_1]).copy()\n",
    "history_test = history_test[history_test['last_watch_dt'] <= cutoff_test].copy()"
   ]
  },
  {
   "cell_type": "markdown",
   "metadata": {},
   "source": [
    "Соберем признаки по пользователю "
   ]
  },
  {
   "cell_type": "code",
   "execution_count": 11,
   "metadata": {},
   "outputs": [],
   "source": [
    "user_agg_valid = history_valid.groupby('user_id').agg(\n",
    "    user_interaction_count=('user_id', 'count'),\n",
    "    user_avg_watched_pct=('watched_pct', 'mean')\n",
    ").reset_index()\n",
    "\n",
    "user_agg_test = history_test.groupby('user_id').agg(\n",
    "    user_interaction_count=('user_id', 'count'),\n",
    "    user_avg_watched_pct=('watched_pct', 'mean')\n",
    ").reset_index()"
   ]
  },
  {
   "cell_type": "markdown",
   "metadata": {},
   "source": [
    "По айтему"
   ]
  },
  {
   "cell_type": "code",
   "execution_count": 12,
   "metadata": {},
   "outputs": [],
   "source": [
    "item_agg_valid = history_valid.groupby('item_id').agg(\n",
    "    item_interaction_count=('item_id', 'count'),\n",
    "    item_avg_watched_pct=('watched_pct', 'mean')\n",
    ").reset_index()\n",
    "\n",
    "item_agg_test = history_test.groupby('item_id').agg(\n",
    "    item_interaction_count=('item_id', 'count'),\n",
    "    item_avg_watched_pct=('watched_pct', 'mean')\n",
    ").reset_index()"
   ]
  },
  {
   "cell_type": "markdown",
   "metadata": {},
   "source": [
    "Для юзер-айтем"
   ]
  },
  {
   "cell_type": "code",
   "execution_count": 13,
   "metadata": {},
   "outputs": [],
   "source": [
    "user_item_agg_valid = history_valid.groupby(['user_id', 'item_id']).agg(\n",
    "    user_item_interaction_count=('user_id', 'count'),\n",
    "    user_item_avg_total_dur=('total_dur', 'mean'),\n",
    "    user_item_avg_watched_pct=('watched_pct', 'mean'),\n",
    "    user_item_total_dur_sum=('total_dur', 'sum')\n",
    ").reset_index()\n",
    "\n",
    "user_item_agg_test = history_test.groupby(['user_id', 'item_id']).agg(\n",
    "    user_item_interaction_count=('user_id', 'count'),\n",
    "    user_item_avg_total_dur=('total_dur', 'mean'),\n",
    "    user_item_avg_watched_pct=('watched_pct', 'mean'),\n",
    "    user_item_total_dur_sum=('total_dur', 'sum')\n",
    ").reset_index()\n",
    "\n",
    "# ratio-признаки: \n",
    "user_item_agg_valid = user_item_agg_valid.merge(user_agg_valid, on='user_id', how='left')\n",
    "user_item_agg_valid['user_ratio'] = user_item_agg_valid['user_item_interaction_count'] / user_item_agg_valid['user_interaction_count']\n",
    "\n",
    "user_item_agg_valid = user_item_agg_valid.merge(item_agg_valid, on='item_id', how='left')\n",
    "user_item_agg_valid['item_ratio'] = user_item_agg_valid['user_item_interaction_count'] / user_item_agg_valid['item_interaction_count']\n",
    "\n",
    "user_item_agg_test = user_item_agg_test.merge(user_agg_test, on='user_id', how='left')\n",
    "user_item_agg_test['user_ratio'] = user_item_agg_test['user_item_interaction_count'] / user_item_agg_test['user_interaction_count']\n",
    "\n",
    "user_item_agg_test = user_item_agg_test.merge(item_agg_test, on='item_id', how='left')\n",
    "user_item_agg_test['item_ratio'] = user_item_agg_test['user_item_interaction_count'] / user_item_agg_test['item_interaction_count']\n",
    "\n",
    "interaction_cols = [\n",
    "    'user_id', 'item_id', \n",
    "    'user_item_interaction_count', \n",
    "    'user_item_avg_total_dur', \n",
    "    'user_item_avg_watched_pct', \n",
    "    'user_item_total_dur_sum', \n",
    "    'user_ratio', 'item_ratio'\n",
    "]\n",
    "user_item_agg_valid = user_item_agg_valid[interaction_cols]\n",
    "user_item_agg_test = user_item_agg_test[interaction_cols]"
   ]
  },
  {
   "cell_type": "markdown",
   "metadata": {},
   "source": [
    "Объединяем данные"
   ]
  },
  {
   "cell_type": "code",
   "execution_count": 14,
   "metadata": {},
   "outputs": [
    {
     "name": "stdout",
     "output_type": "stream",
     "text": [
      "Размерность Train (valid_stage_1): (973392, 16)\n",
      "Размерность теста: (608467, 16)\n"
     ]
    }
   ],
   "source": [
    "train_df_with_features = valid_stage_1.copy()\n",
    "\n",
    "train_df_with_features = train_df_with_features.merge(user_agg_valid, on='user_id', how='left')\n",
    "train_df_with_features = train_df_with_features.merge(item_agg_valid, on='item_id', how='left')\n",
    "train_df_with_features = train_df_with_features.merge(user_item_agg_valid, on=['user_id', 'item_id'], how='left')\n",
    "\n",
    "interaction_feature_cols = ['user_item_interaction_count', 'user_item_avg_total_dur',\n",
    "                              'user_item_avg_watched_pct', 'user_item_total_dur_sum',\n",
    "                              'user_ratio', 'item_ratio']\n",
    "train_df_with_features[interaction_feature_cols] = train_df_with_features[interaction_feature_cols].fillna(0)\n",
    "\n",
    "test_df_with_features = test.copy()\n",
    "\n",
    "test_df_with_features = test_df_with_features.merge(user_agg_test, on='user_id', how='left')\n",
    "test_df_with_features = test_df_with_features.merge(item_agg_test, on='item_id', how='left')\n",
    "test_df_with_features = test_df_with_features.merge(user_item_agg_test, on=['user_id', 'item_id'], how='left')\n",
    "test_df_with_features[interaction_feature_cols] = test_df_with_features[interaction_feature_cols].fillna(0)\n",
    "\n",
    "print(\"Размерность Train (valid_stage_1):\", train_df_with_features.shape)\n",
    "print(\"Размерность теста:\", test_df_with_features.shape)"
   ]
  },
  {
   "cell_type": "markdown",
   "metadata": {},
   "source": [
    "Был использован первый вариант 1: для обучения все признаки собираются на основе истории до дня, предшествующего первому дню valid_stage_1, а для теста — на основе истории до дня, предшествующего первому дню test\n",
    "\n",
    "Пользовательские признаки (2):\n",
    "\n",
    "1. user_interaction_count – количество взаимодействий пользователя в истории\n",
    "\n",
    "2. user_avg_watched_pct – средний процент просмотра (watched_pct) для пользователя в истории\n",
    "\n",
    "Признаки айтема (2):\n",
    "\n",
    "3. item_interaction_count – количество взаимодействий с айтемом в истории\n",
    "\n",
    "4. item_avg_watched_pct – средний процент просмотра для айтема в истории\n",
    "\n",
    "Признаки взаимодействия пользователь–айтем (6):\n",
    "\n",
    "5. user_item_interaction_count – число взаимодействий данного пользователя с данным айтемом\n",
    "\n",
    "6. user_item_avg_total_dur – среднее время просмотра (total_dur) для данной пары\n",
    "\n",
    "7. user_item_avg_watched_pct – средний watched_pct для данной пары\n",
    "\n",
    "8. user_item_total_dur_sum – суммарное время просмотра для данной пары\n",
    "\n",
    "9. user_ratio – отношение числа взаимодействий пользователя с данным айтемом к общему числу взаимодействий этого пользователя\n",
    "\n",
    "10. item_ratio – отношение числа взаимодействий пользователя с данным айтемом к общему числу взаимодействий с этим айтемом"
   ]
  },
  {
   "cell_type": "markdown",
   "metadata": {},
   "source": [
    "\n",
    "### 3 Этап. Обучение финального ранкера (max 2 балла)\n",
    "Собрав все признаки из этапа 2, добавив скоры моделей из этапа 1 для каждой пары пользователь-айтем (где это возможно), пришло время обучать ранкер. В качестве ранкера можно использовать либо [xgboost](https://xgboost.readthedocs.io/en/stable/) или [catboost](https://catboost.ai/). Обучать можно как `Classfier`, так и `Ranker`, выбираем то, что лучше сработает. Обучение ранкера будет проходить на `valid_stage_1`, как  раз на которой мы валидировали модели, а тестировать на `test`, которую мы до сих пор не трогали.  Заметьте, что у нас в тесте есть холодные пользователи – те, кого не было в train и активные – те, кто был в train. Возможно их стоит обработать по отдельности (а может и нет).  \n",
    "(1 балл)\n",
    "\n",
    "После получения лучшей модели надо посмотреть на важность признаков и [shap values](https://shap.readthedocs.io/en/latest/index.html), чтобы:\n",
    "1. Интерпритировать признаки, которые вы собрали, насколько они полезные\n",
    "2. Проверить наличие ликов – если важность фичи в 100 раз больше, чем у всех остальных, то явно что-то не то  \n",
    "\n",
    "(1 балл)\n",
    "\n",
    "\n",
    "\n",
    "\n"
   ]
  },
  {
   "cell_type": "code",
   "execution_count": 15,
   "metadata": {},
   "outputs": [
    {
     "name": "stderr",
     "output_type": "stream",
     "text": [
      "/Library/Frameworks/Python.framework/Versions/3.13/lib/python3.13/site-packages/tqdm/auto.py:21: TqdmWarning: IProgress not found. Please update jupyter and ipywidgets. See https://ipywidgets.readthedocs.io/en/stable/user_install.html\n",
      "  from .autonotebook import tqdm as notebook_tqdm\n"
     ]
    }
   ],
   "source": [
    "import xgboost as xgb\n",
    "import shap\n",
    "from utils import add_model_scores\n",
    "\n",
    "train_df_with_features = add_model_scores(train_df_with_features, my_heuristic_model, my_matrix_factorization, my_neural_network)\n",
    "test_df_with_features = add_model_scores(test_df_with_features, my_heuristic_model, my_matrix_factorization, my_neural_network)\n",
    "\n",
    "feature_cols = [\n",
    "    'user_interaction_count', 'user_avg_watched_pct',\n",
    "    'item_interaction_count', 'item_avg_watched_pct',\n",
    "    'user_item_interaction_count', 'user_item_avg_total_dur', 'user_item_avg_watched_pct', 'user_item_total_dur_sum',\n",
    "    'user_ratio', 'item_ratio',\n",
    "    'heuristic_score', 'mf_score', 'nn_score'\n",
    "]\n",
    "\n",
    "target_col = 'target'\n",
    "\n",
    "X_train = train_df_with_features[feature_cols]\n",
    "y_train = train_df_with_features[target_col]\n",
    "\n",
    "X_test = test_df_with_features[feature_cols]\n",
    "y_test = test_df_with_features[target_col]"
   ]
  },
  {
   "cell_type": "code",
   "execution_count": 16,
   "metadata": {},
   "outputs": [
    {
     "name": "stdout",
     "output_type": "stream",
     "text": [
      "Топ-10 рекомендаций для пользователя 718866\n",
      "   item_id  ranker_score\n",
      "0     4151      0.353642\n",
      "1     6382      0.207837\n",
      "2     3877      0.153489\n"
     ]
    }
   ],
   "source": [
    "ranker = xgb.XGBClassifier(n_estimators=100, max_depth=5, learning_rate=0.1, random_state=42)\n",
    "ranker.fit(X_train, y_train)\n",
    "\n",
    "example_user = test_df_with_features['user_id'].iloc[0]\n",
    "user_test_data = test_df_with_features[test_df_with_features['user_id'] == example_user].copy()\n",
    "user_features = user_test_data[feature_cols]\n",
    "user_preds = ranker.predict_proba(user_features)[:, 1]\n",
    "user_test_data['ranker_score'] = user_preds\n",
    "user_test_data = user_test_data.sort_values(by='ranker_score', ascending=False)\n",
    "print(\"Топ-10 рекомендаций для пользователя\", example_user)\n",
    "print(user_test_data[['item_id', 'ranker_score']].reset_index(drop=True))"
   ]
  },
  {
   "cell_type": "code",
   "execution_count": 17,
   "metadata": {},
   "outputs": [
    {
     "name": "stderr",
     "output_type": "stream",
     "text": [
      "/var/folders/h9/0y8pddws5r74cd3l8tn5h53m0000gn/T/ipykernel_5386/2333365617.py:4: FutureWarning: The NumPy global RNG was seeded by calling `np.random.seed`. In a future version this function will no longer use the global RNG. Pass `rng` explicitly to opt-in to the new behaviour and silence this warning.\n",
      "  shap.summary_plot(shap_values, X_train)\n"
     ]
    },
    {
     "data": {
      "image/png": "[encoded data removed]",
      "text/plain": [
       "<Figure size 800x670 with 2 Axes>"
      ]
     },
     "metadata": {},
     "output_type": "display_data"
    }
   ],
   "source": [
    "explainer = shap.Explainer(ranker)\n",
    "shap_values = explainer(X_train)\n",
    "\n",
    "shap.summary_plot(shap_values, X_train)"
   ]
  },
  {
   "cell_type": "markdown",
   "metadata": {},
   "source": [
    "В итоге, глобальные признаки, отражающие общую активность пользователя и популярность айтема (например, user_avg_watched_pct и item_avg_watched_pct), а также интегрированные скоры от моделей первого уровня (эвристической, MF и нейронной) оказались наиболее информативными и полезными для финального ранкера. Эти фичи дают стабильный сигнал о вовлеченности пользователей и качестве контента\n",
    "\n",
    "Локальные признаки, характеризующие конкретное взаимодействие пользователя с айтемом (например, число взаимодействий, суммарное и среднее время просмотра, а также соотношения), в сравнении с глобальными показателями показали меньшую важность. Возможно, они либо избыточны, либо сильно коррелируют с более общими метриками, поэтому их вклад в итоговое предсказание невелик"
   ]
  },
  {
   "cell_type": "markdown",
   "metadata": {},
   "source": [
    "\n",
    "### 4 Этап. Инференс лучшего ранкера (max 3 балла)\n",
    "\n",
    "Теперь мы хотим построить рекомендации \"на завтра\", для этого нам нужно:\n",
    "\n",
    "1. Обучить модели первого уровня на всех (train+test) данных (0.5 балла)\n",
    "2. Для каждой модели первого уровня для каждого пользователя сгененировать N кандидатов (0.5 балла)\n",
    "3. \"Склеить\" всех кандидатов для каждого пользователя (дубли выкинуть), посчитать скоры от всех моделей (0.5 балла)\n",
    "4. Собрать фичи для ваших кандидатов (теперь можем считать признаки на всех данных) (0.5 балла)\n",
    "5. Проскорить всех кандидатов бустингом и оставить k лучших (0.5 балла)\n",
    "6. Посчитать разнообразие(Diversity) и построить график от Diversity(k) (0.5 балла)\n",
    "\n",
    "\n",
    "Все гиперпараметры (N, k) определяете только Вы!"
   ]
  },
  {
   "cell_type": "code",
   "execution_count": 18,
   "metadata": {},
   "outputs": [],
   "source": [
    "full_data = pd.concat([train, test], ignore_index=True)\n",
    "\n",
    "my_heuristic_model.fit(full_data)\n",
    "my_matrix_factorization.fit(full_data)\n",
    "my_neural_network.fit(full_data)"
   ]
  },
  {
   "cell_type": "code",
   "execution_count": 19,
   "metadata": {},
   "outputs": [],
   "source": [
    "import numpy as np\n",
    "\n",
    "N = 50\n",
    "\n",
    "all_users = full_data['user_id'].unique()\n",
    "np.random.seed(42)\n",
    "sample_size = int(0.025 * len(all_users)) # разрешили инференс не на всей выборке, а то даже гпушки с трудом вывозят\n",
    "sampled_users = np.random.choice(all_users, size=sample_size, replace=False)\n",
    "\n",
    "heuristic_candidates = {}\n",
    "for user in sampled_users:\n",
    "    recs = my_heuristic_model.recommend(user, k=N)\n",
    "    heuristic_candidates[user] = recs"
   ]
  },
  {
   "cell_type": "code",
   "execution_count": 20,
   "metadata": {},
   "outputs": [],
   "source": [
    "mf_candidates = {}\n",
    "for user in sampled_users:\n",
    "    recs = my_matrix_factorization.recommend(user, k=N)\n",
    "    mf_candidates[user] = recs"
   ]
  },
  {
   "cell_type": "code",
   "execution_count": 21,
   "metadata": {},
   "outputs": [],
   "source": [
    "nn_candidates = {}\n",
    "for user in sampled_users:\n",
    "    recs = my_neural_network.recommend(user, k=N)\n",
    "    nn_candidates[user] = recs"
   ]
  },
  {
   "cell_type": "code",
   "execution_count": 22,
   "metadata": {},
   "outputs": [],
   "source": [
    "combined_candidates = {}\n",
    "for user in sampled_users: \n",
    "    candidates = set(heuristic_candidates.get(user, [])) | set(mf_candidates.get(user, [])) | set(nn_candidates.get(user, []))\n",
    "    combined_candidates[user] = list(candidates)\n",
    "\n",
    "user_list = []\n",
    "item_list = []\n",
    "for user, items in combined_candidates.items():\n",
    "    for item in items:\n",
    "        user_list.append(user)\n",
    "        item_list.append(item)\n",
    "\n",
    "user_array = np.array(user_list)\n",
    "item_array = np.array(item_list)"
   ]
  },
  {
   "cell_type": "code",
   "execution_count": 23,
   "metadata": {},
   "outputs": [],
   "source": [
    "def predict_batch(model, users, items):\n",
    "    preds = [model.predict(u, i) for u, i in zip(users, items)]\n",
    "    return np.array(preds)\n",
    "\n",
    "heuristic_preds = predict_batch(my_heuristic_model, user_array, item_array)\n",
    "mf_preds = predict_batch(my_matrix_factorization, user_array, item_array)\n",
    "nn_preds = predict_batch(my_neural_network, user_array, item_array)\n",
    "\n",
    "candidates_df = pd.DataFrame({\n",
    "    'user_id': user_array,\n",
    "    'item_id': item_array,\n",
    "    'heuristic_score': heuristic_preds,\n",
    "    'mf_score': mf_preds,\n",
    "    'nn_score': nn_preds\n",
    "})"
   ]
  },
  {
   "cell_type": "code",
   "execution_count": 24,
   "metadata": {},
   "outputs": [],
   "source": [
    "user_feats = full_data.groupby('user_id').agg(\n",
    "    user_interaction_count=('user_id', 'count'),\n",
    "    user_avg_watched_pct=('watched_pct', 'mean')\n",
    ").reset_index()\n",
    "\n",
    "item_feats = full_data.groupby('item_id').agg(\n",
    "    item_interaction_count=('item_id', 'count'),\n",
    "    item_avg_watched_pct=('watched_pct', 'mean')\n",
    ").reset_index()\n",
    "\n",
    "ui_feats = full_data.groupby(['user_id', 'item_id']).agg(\n",
    "    user_item_interaction_count=('user_id', 'count'),\n",
    "    user_item_avg_total_dur=('total_dur', 'mean'),\n",
    "    user_item_avg_watched_pct=('watched_pct', 'mean'),\n",
    "    user_item_total_dur_sum=('total_dur', 'sum')\n",
    ").reset_index()\n",
    "\n",
    "ui_feats = ui_feats.merge(user_feats, on='user_id', how='left')\n",
    "ui_feats['user_ratio'] = ui_feats['user_item_interaction_count'] / ui_feats['user_interaction_count']\n",
    "ui_feats = ui_feats.merge(item_feats, on='item_id', how='left')\n",
    "ui_feats['item_ratio'] = ui_feats['user_item_interaction_count'] / ui_feats['item_interaction_count']\n",
    "ui_feats = ui_feats[['user_id', 'item_id', \n",
    "                     'user_item_interaction_count', 'user_item_avg_total_dur',\n",
    "                     'user_item_avg_watched_pct', 'user_item_total_dur_sum',\n",
    "                     'user_ratio', 'item_ratio']]\n",
    "\n",
    "candidates_with_feats = candidates_df.merge(user_feats, on='user_id', how='left')\n",
    "candidates_with_feats = candidates_with_feats.merge(item_feats, on='item_id', how='left')\n",
    "candidates_with_feats = candidates_with_feats.merge(ui_feats, on=['user_id', 'item_id'], how='left')\n",
    "for col in ['user_item_interaction_count', 'user_item_avg_total_dur', \n",
    "            'user_item_avg_watched_pct', 'user_item_total_dur_sum', 'user_ratio', 'item_ratio']:\n",
    "    candidates_with_feats[col] = candidates_with_feats[col].fillna(0)\n",
    "\n",
    "final_feature_cols = [\n",
    "    'user_interaction_count', 'user_avg_watched_pct',\n",
    "    'item_interaction_count', 'item_avg_watched_pct',\n",
    "    'user_item_interaction_count', 'user_item_avg_total_dur',\n",
    "    'user_item_avg_watched_pct', 'user_item_total_dur_sum',\n",
    "    'user_ratio', 'item_ratio',\n",
    "    'heuristic_score', 'mf_score', 'nn_score'\n",
    "]"
   ]
  },
  {
   "cell_type": "code",
   "execution_count": 26,
   "metadata": {},
   "outputs": [
    {
     "data": {
      "image/png": "[encoded data removed]",
      "text/plain": [
       "<Figure size 800x500 with 1 Axes>"
      ]
     },
     "metadata": {},
     "output_type": "display_data"
    }
   ],
   "source": [
    "import matplotlib.pyplot as plt\n",
    "\n",
    "X_candidates = candidates_with_feats[final_feature_cols]\n",
    "candidates_with_feats['final_score'] = ranker.predict_proba(X_candidates)[:, 1]\n",
    "\n",
    "k = 8\n",
    "final_recs = candidates_with_feats.sort_values(['user_id', 'final_score'], ascending=[True, False])\n",
    "final_recs_by_user = final_recs.groupby('user_id').head(k)\n",
    "\n",
    "k_values = [5, 10, 15, 25, 30]\n",
    "diversity_scores = []\n",
    "for k_val in k_values:\n",
    "    recs_dict = {}\n",
    "    for user, group in final_recs.groupby('user_id'):\n",
    "        topk = group.sort_values('final_score', ascending=False).head(k_val)['item_id'].tolist()\n",
    "        recs_dict[user] = topk\n",
    "    diversity = compute_diversity(recs_dict)\n",
    "    diversity_scores.append(diversity)\n",
    "\n",
    "plt.figure(figsize=(8, 5))\n",
    "plt.plot(k_values, diversity_scores, marker='o')\n",
    "plt.xlabel('k (число рекомендаций для пользователя)')\n",
    "plt.ylabel('Diversity (доля уникальных айтемов)')\n",
    "plt.title('Зависимость Diversity от k')\n",
    "plt.grid(True)\n",
    "plt.show()"
   ]
  },
  {
   "cell_type": "markdown",
   "metadata": {},
   "source": [
    "На графике видно, что по мере увеличения числа рекомендаций k доля уникальных товаров среди всех рекомендаций уменьшается. При выдаче большего количества позиций растёт пересечение рекомендуемых айтемов разным пользователям и, как следствие, падает разнообразие"
   ]
  }
 ],
 "metadata": {
  "kernelspec": {
   "display_name": "Python 3",
   "language": "python",
   "name": "python3"
  },
  "language_info": {
   "codemirror_mode": {
    "name": "ipython",
    "version": 3
   },
   "file_extension": ".py",
   "mimetype": "text/x-python",
   "name": "python",
   "nbconvert_exporter": "python",
   "pygments_lexer": "ipython3",
   "version": "3.13.2"
  }
 },
 "nbformat": 4,
 "nbformat_minor": 4
}
